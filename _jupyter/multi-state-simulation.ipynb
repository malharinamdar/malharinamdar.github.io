{
 "cells": [
  {
   "cell_type": "markdown",
   "metadata": {},
   "source": [
    "# Simulation of multi-state models"
   ]
  },
  {
   "cell_type": "code",
   "execution_count": 2,
   "metadata": {
    "comments": [
     {
      "body": [
       {
        "created": "2020-07-20T09:54:12.807Z",
        "creator": {
         "image": "https://avatars1.githubusercontent.com/u/2096246?v=4",
         "name": "Sebastian Daza",
         "user": "sdaza"
        },
        "edited": false,
        "value": "third test"
       }
      ],
      "id": "anno/2",
      "resolved": true,
      "total": 1
     }
    ]
   },
   "outputs": [
    {
     "name": "stderr",
     "output_type": "stream",
     "text": [
      "Loading required package: survival\n",
      "\n"
     ]
    }
   ],
   "source": [
    "# libraries\n",
    "library(mstate)\n",
    "library(flexsurv)\n",
    "library(data.table)\n",
    "set.seed(234)"
   ]
  },
  {
   "cell_type": "code",
   "execution_count": 3,
   "metadata": {},
   "outputs": [
    {
     "data": {
      "text/html": "<table class=\"dataframe\">\n<caption>A data.table: 6 × 8</caption>\n<thead>\n\t<tr><th scope=col>id</th><th scope=col>from</th><th scope=col>to</th><th scope=col>trans</th><th scope=col>Tstart</th><th scope=col>Tstop</th><th scope=col>status</th><th scope=col>treat</th></tr>\n\t<tr><th scope=col>&lt;dbl&gt;</th><th scope=col>&lt;dbl&gt;</th><th scope=col>&lt;dbl&gt;</th><th scope=col>&lt;dbl&gt;</th><th scope=col>&lt;dbl&gt;</th><th scope=col>&lt;dbl&gt;</th><th scope=col>&lt;dbl&gt;</th><th scope=col>&lt;fct&gt;</th></tr>\n</thead>\n<tbody>\n\t<tr><td>1</td><td>2</td><td>1</td><td>3</td><td>  0</td><td>151</td><td>0</td><td>Placebo</td></tr>\n\t<tr><td>1</td><td>2</td><td>3</td><td>4</td><td>  0</td><td>151</td><td>1</td><td>Placebo</td></tr>\n\t<tr><td>2</td><td>2</td><td>1</td><td>3</td><td>  0</td><td>251</td><td>1</td><td>Placebo</td></tr>\n\t<tr><td>2</td><td>2</td><td>3</td><td>4</td><td>  0</td><td>251</td><td>0</td><td>Placebo</td></tr>\n\t<tr><td>2</td><td>1</td><td>2</td><td>1</td><td>251</td><td>434</td><td>1</td><td>Placebo</td></tr>\n\t<tr><td>2</td><td>1</td><td>3</td><td>2</td><td>251</td><td>434</td><td>0</td><td>Placebo</td></tr>\n</tbody>\n</table>\n",
      "text/latex": "A data.table: 6 × 8\n\\begin{tabular}{llllllll}\n id & from & to & trans & Tstart & Tstop & status & treat\\\\\n <dbl> & <dbl> & <dbl> & <dbl> & <dbl> & <dbl> & <dbl> & <fct>\\\\\n\\hline\n\t 1 & 2 & 1 & 3 &   0 & 151 & 0 & Placebo\\\\\n\t 1 & 2 & 3 & 4 &   0 & 151 & 1 & Placebo\\\\\n\t 2 & 2 & 1 & 3 &   0 & 251 & 1 & Placebo\\\\\n\t 2 & 2 & 3 & 4 &   0 & 251 & 0 & Placebo\\\\\n\t 2 & 1 & 2 & 1 & 251 & 434 & 1 & Placebo\\\\\n\t 2 & 1 & 3 & 2 & 251 & 434 & 0 & Placebo\\\\\n\\end{tabular}\n",
      "text/markdown": "\nA data.table: 6 × 8\n\n| id &lt;dbl&gt; | from &lt;dbl&gt; | to &lt;dbl&gt; | trans &lt;dbl&gt; | Tstart &lt;dbl&gt; | Tstop &lt;dbl&gt; | status &lt;dbl&gt; | treat &lt;fct&gt; |\n|---|---|---|---|---|---|---|---|\n| 1 | 2 | 1 | 3 |   0 | 151 | 0 | Placebo |\n| 1 | 2 | 3 | 4 |   0 | 151 | 1 | Placebo |\n| 2 | 2 | 1 | 3 |   0 | 251 | 1 | Placebo |\n| 2 | 2 | 3 | 4 |   0 | 251 | 0 | Placebo |\n| 2 | 1 | 2 | 1 | 251 | 434 | 1 | Placebo |\n| 2 | 1 | 3 | 2 | 251 | 434 | 0 | Placebo |\n\n",
      "text/plain": "  id from to trans Tstart Tstop status treat  \n1 1  2    1  3       0    151   0      Placebo\n2 1  2    3  4       0    151   1      Placebo\n3 2  2    1  3       0    251   1      Placebo\n4 2  2    3  4       0    251   0      Placebo\n5 2  1    2  1     251    434   1      Placebo\n6 2  1    3  2     251    434   0      Placebo"
     },
     "metadata": {},
     "output_type": "display_data"
    }
   ],
   "source": [
    "# read data\n",
    "data(prothr)\n",
    "dat = data.table(prothr)\n",
    "head(dat)"
   ]
  },
  {
   "cell_type": "code",
   "execution_count": 4,
   "metadata": {
    "comments": [
     {
      "body": [
       {
        "created": "2020-07-20T09:53:58.223Z",
        "creator": {
         "image": "https://avatars1.githubusercontent.com/u/2096246?v=4",
         "name": "Sebastian Daza",
         "user": "sdaza"
        },
        "edited": false,
        "value": "This is another test"
       }
      ],
      "id": "anno/1",
      "resolved": true,
      "total": 1
     }
    ]
   },
   "outputs": [
    {
     "data": {
      "text/plain": "\n  1   2   3   4 \n532 532 544 544 "
     },
     "metadata": {},
     "output_type": "display_data"
    }
   ],
   "source": [
    "table(dat$trans)\n",
    "dat[, years := Tstop - Tstart][years == 0, years := 0.001][, years := years / 365.25]\n",
    "dat[, trans := as.factor(trans)]\n",
    "tmat = attr(prothr, \"trans\")"
   ]
  },
  {
   "cell_type": "markdown",
   "metadata": {},
   "source": [
    "## Flexsurv\n",
    "\n",
    "- Does this take into account uncertainty?\n",
    "- No, we have to use bootstrap\n",
    "- The bootstrap function might limit us\n",
    "\n",
    "```\n",
    "summfn <- function(x, ...){\n",
    "    sim <-  sim.fmsm(x, ...) \n",
    " ##  [[ compute the summary you want here. ]] \n",
    "}\n",
    "mod <- flexsurvreg(...)\n",
    "\n",
    "bootci.fmsm(mod, fn=summfn, ) \n",
    "```"
   ]
  },
  {
   "cell_type": "code",
   "execution_count": 6,
   "metadata": {},
   "outputs": [
    {
     "data": {
      "text/html": [
       "<table>\n",
       "<caption>A matrix: 3 × 3 of type int</caption>\n",
       "<thead>\n",
       "\t<tr><th></th><th scope=col>Normal</th><th scope=col>Low</th><th scope=col>Death</th></tr>\n",
       "</thead>\n",
       "<tbody>\n",
       "\t<tr><th scope=row>Normal</th><td>NA</td><td> 1</td><td> 2</td></tr>\n",
       "\t<tr><th scope=row>Low</th><td> 3</td><td>NA</td><td> 4</td></tr>\n",
       "\t<tr><th scope=row>Death</th><td>NA</td><td>NA</td><td>NA</td></tr>\n",
       "</tbody>\n",
       "</table>\n"
      ],
      "text/latex": [
       "A matrix: 3 × 3 of type int\n",
       "\\begin{tabular}{r|lll}\n",
       "  & Normal & Low & Death\\\\\n",
       "\\hline\n",
       "\tNormal & NA &  1 &  2\\\\\n",
       "\tLow &  3 & NA &  4\\\\\n",
       "\tDeath & NA & NA & NA\\\\\n",
       "\\end{tabular}\n"
      ],
      "text/markdown": [
       "\n",
       "A matrix: 3 × 3 of type int\n",
       "\n",
       "| <!--/--> | Normal | Low | Death |\n",
       "|---|---|---|---|\n",
       "| Normal | NA |  1 |  2 |\n",
       "| Low |  3 | NA |  4 |\n",
       "| Death | NA | NA | NA |\n",
       "\n"
      ],
      "text/plain": [
       "        to\n",
       "from     Normal Low Death\n",
       "  Normal NA      1   2   \n",
       "  Low     3     NA   4   \n",
       "  Death  NA     NA  NA   "
      ]
     },
     "metadata": {},
     "output_type": "display_data"
    }
   ],
   "source": [
    "tmat"
   ]
  },
  {
   "cell_type": "code",
   "execution_count": 7,
   "metadata": {},
   "outputs": [],
   "source": [
    "# models \n",
    "\n",
    "# parametric models\n",
    "crexp = flexsurvreg(Surv(years, status) ~ trans  + treat, data = dat, dist = \"exp\") \n",
    "crwei = flexsurvreg(Surv(years, status) ~ 1 + treat, anc = list(shape = ~ trans), data = dat, dist = \"weibull\")"
   ]
  },
  {
   "cell_type": "code",
   "execution_count": 8,
   "metadata": {},
   "outputs": [
    {
     "data": {
      "text/plain": [
       "Call:\n",
       "flexsurvreg(formula = Surv(years, status) ~ 1 + treat, anc = list(shape = ~trans), \n",
       "    data = dat, dist = \"weibull\")\n",
       "\n",
       "Estimates: \n",
       "                 data mean  est      L95%     U95%     se       exp(est)\n",
       "shape                 NA     0.7393   0.6721   0.8132   0.0360       NA \n",
       "scale                 NA     5.1336   4.4882   5.8718   0.3519       NA \n",
       "treatPrednisone   0.5028     0.1081  -0.0680   0.2843   0.0899   1.1142 \n",
       "shape(trans2)     0.2472     0.2956   0.1411   0.4501   0.0788   1.3440 \n",
       "shape(trans3)     0.2528    -0.1045  -0.2329   0.0240   0.0655   0.9008 \n",
       "shape(trans4)     0.2528    -0.2584  -0.3946  -0.1221   0.0695   0.7723 \n",
       "                 L95%     U95%   \n",
       "shape                 NA       NA\n",
       "scale                 NA       NA\n",
       "treatPrednisone   0.9342   1.3288\n",
       "shape(trans2)     1.1515   1.5685\n",
       "shape(trans3)     0.7922   1.0243\n",
       "shape(trans4)     0.6740   0.8850\n",
       "\n",
       "N = 2152,  Events: 880,  Censored: 1272\n",
       "Total time at risk: 3555.401\n",
       "Log-likelihood = -1991.459, df = 6\n",
       "AIC = 3994.918\n"
      ]
     },
     "metadata": {},
     "output_type": "display_data"
    }
   ],
   "source": [
    "crwei"
   ]
  },
  {
   "cell_type": "code",
   "execution_count": 9,
   "metadata": {},
   "outputs": [
    {
     "data": {
      "text/html": [
       "-211.833807932969"
      ],
      "text/latex": [
       "-211.833807932969"
      ],
      "text/markdown": [
       "-211.833807932969"
      ],
      "text/plain": [
       "[1] -211.8338"
      ]
     },
     "metadata": {},
     "output_type": "display_data"
    }
   ],
   "source": [
    "AIC(crexp) - AIC(crwei)"
   ]
  },
  {
   "cell_type": "code",
   "execution_count": 10,
   "metadata": {},
   "outputs": [],
   "source": [
    "# list of independent models\n",
    "crwei.list <- list()\n",
    "trans = order(unique(dat$trans))\n",
    "for (i in trans) {\n",
    "    crwei.list[[i]] =  flexsurvreg(Surv(years, status) ~ 1 + treat, subset=(trans==i), data = dat,  dist = \"weibull\")\n",
    "}"
   ]
  },
  {
   "cell_type": "markdown",
   "metadata": {},
   "source": [
    "## Simulate trajectories\n",
    "\n",
    "- The function `sim.fsms` simulates one or more trajectories for the same set of covariates (nrow == 1)\n",
    "- To simulate different individual with different characteristics, we need to loop over those characteristics\n",
    "- For parameter uncertainty, we can use bootstrap"
   ]
  },
  {
   "cell_type": "code",
   "execution_count": 125,
   "metadata": {},
   "outputs": [],
   "source": [
    "simulateMS = function(model, newdata, time, idvar = \"id\", tmat = NULL, iterations = 1,\n",
    "    checkDuplicates = TRUE) {\n",
    "    \n",
    "    # some initial check\n",
    "    if (checkDuplicates && anyDuplicated(newdata[, get(idvar)]) > 0) {\n",
    "        stop(\"There are duplicated ids in newdata\")\n",
    "    }\n",
    "                              \n",
    "    nsimulations = nrow(newdata)\n",
    "    output = list()\n",
    "    print(paste0(\":::: Number of individuals to simulate over \", time, \" units of time: \", nsimulations))\n",
    "    for (i in 1:nsimulations) {\n",
    "        if (i %% 100 == 0) {print(paste0(\":::: Simulating individual number \", i))}\n",
    "        \n",
    "        temp = sim.fmsm(model, M = iterations, t = time, newdata = newdata[i, ], trans = tmat)\n",
    "        \n",
    "        a = data.table(temp$st)[, iter := 1:.N]; setnames(a, gsub(\"V\", \"s\", names(a)))\n",
    "        b = data.table(temp$t)[, iter := 1:.N]; setnames(b, gsub(\"V\", \"t\", names(b)))\n",
    "        temp = merge(a, b, on = \"iter\")\n",
    "        \n",
    "        sid = newdata[i, get(idvar)]\n",
    "        temp = melt(temp, id.vars = \"iter\", measure = patterns(\"^s\", \"^t\"), \n",
    "            value.name = c(\"state\", \"time\"))[, \n",
    "                `:=` (variable = NULL, id = sid)]\n",
    "\n",
    "        temp = unique(temp, by = c(\"iter\", \"state\" , \"time\"))\n",
    "        setorder(temp, id, iter)                                                                          \n",
    "        output[[i]] = temp\n",
    "        \n",
    "    }\n",
    "    return(rbindlist(output))\n",
    "}"
   ]
  },
  {
   "cell_type": "code",
   "execution_count": 126,
   "metadata": {},
   "outputs": [
    {
     "name": "stdout",
     "output_type": "stream",
     "text": [
      "[1] \":::: Number of individuals to simulate over 60 units of time: 488\"\n",
      "[1] \":::: Simulating individual number 100\"\n",
      "[1] \":::: Simulating individual number 200\"\n",
      "[1] \":::: Simulating individual number 300\"\n",
      "[1] \":::: Simulating individual number 400\"\n"
     ]
    }
   ],
   "source": [
    "newdata = unique(dat, by = \"id\")[, .(id, treat)]\n",
    "test = simulateMS(crwei.list, newdata = newdata, time = 60, tmat = tmat, iterations = 10)"
   ]
  },
  {
   "cell_type": "markdown",
   "metadata": {
    "comments": [
     {
      "body": [
       {
        "created": "2020-07-20T09:53:38.449Z",
        "creator": {
         "image": "https://avatars1.githubusercontent.com/u/2096246?v=4",
         "name": "Sebastian Daza",
         "user": "sdaza"
        },
        "edited": false,
        "value": "This is a test"
       }
      ],
      "id": "anno/0",
      "resolved": true,
      "total": 1
     }
    ]
   },
   "source": [
    "### Resampling\n",
    "\n",
    "- Create sampling\n",
    "- Run models\n",
    "- Simulation transitions"
   ]
  }
 ],
 "metadata": {
  "kernelspec": {
   "display_name": "R",
   "language": "R",
   "name": "ir"
  },
  "language_info": {
   "codemirror_mode": "r",
   "file_extension": ".r",
   "mimetype": "text/x-r-source",
   "name": "R",
   "pygments_lexer": "r",
   "version": "4.0.4"
  }
 },
 "nbformat": 4,
 "nbformat_minor": 4
}